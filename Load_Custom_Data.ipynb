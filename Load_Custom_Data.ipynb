{
 "cells": [
  {
   "cell_type": "code",
   "execution_count": 1,
   "metadata": {
    "scrolled": true
   },
   "outputs": [
    {
     "name": "stderr",
     "output_type": "stream",
     "text": [
      "Using TensorFlow backend.\n"
     ]
    }
   ],
   "source": [
    "import matplotlib.pyplot as plt\n",
    "import csv\n",
    "import numpy as np\n",
    "import os\n",
    "import cv2\n",
    "import random\n",
    "from PIL import Image\n",
    "from keras.preprocessing import image"
   ]
  },
  {
   "cell_type": "code",
   "execution_count": 2,
   "metadata": {},
   "outputs": [],
   "source": [
    "def load_custom_signs(rootpath, IMG_SIZE):\n",
    "    test_data = []\n",
    "    for img in os.listdir(rootpath):\n",
    "        test_data.append(cv2.resize(plt.imread(os.path.join(rootpath,img)), (IMG_SIZE,IMG_SIZE)))\n",
    "    return test_data"
   ]
  },
  {
   "cell_type": "code",
   "execution_count": 24,
   "metadata": {},
   "outputs": [],
   "source": [
    "IMG_SIZE = 48\n",
    "test_data = load_custom_signs('Own_test_images/class1/', IMG_SIZE)"
   ]
  },
  {
   "cell_type": "code",
   "execution_count": 25,
   "metadata": {},
   "outputs": [],
   "source": [
    "X = []\n",
    "\n",
    "for feature in test_data:\n",
    "    X.append(feature)\n",
    "    \n",
    "X = np.reshape(X, (-1, IMG_SIZE, IMG_SIZE, 3))\n"
   ]
  },
  {
   "cell_type": "code",
   "execution_count": 26,
   "metadata": {},
   "outputs": [],
   "source": [
    "np.save(\"test_data\", X)"
   ]
  },
  {
   "cell_type": "code",
   "execution_count": 5,
   "metadata": {},
   "outputs": [],
   "source": [
    "IMG_SIZE = 48\n",
    "rootpath = 'Own_test_images/class26.jpeg'\n",
    "#rootpath = 'Own_test_images/class13.jpeg'\n",
    "newpath = 'Own_test_images/class26.ppm'\n",
    "#newpath_ = 'Own_test_images/class13.ppm'\n",
    "im = Image.open(rootpath)\n",
    "im.save(newpath)\n",
    "#custom_data = cv2.resize(cv2.imread(rootpath), (IMG_SIZE,IMG_SIZE))\n",
    "custom_data = cv2.resize(plt.imread(newpath), (IMG_SIZE,IMG_SIZE))\n",
    "#custom_data_ = cv2.resize(plt.imread(newpath_), (IMG_SIZE,IMG_SIZE))\n",
    "#img = image.load_img('Own_test_images/class26.jpg', target_size=(IMG_SIZE, IMG_SIZE), grayscale=False)"
   ]
  },
  {
   "cell_type": "code",
   "execution_count": 8,
   "metadata": {
    "scrolled": true
   },
   "outputs": [
    {
     "name": "stdout",
     "output_type": "stream",
     "text": [
      "(48, 48, 3)\n"
     ]
    },
    {
     "data": {
      "image/png": "[encoded data removed]",
      "text/plain": [
       "<Figure size 432x288 with 1 Axes>"
      ]
     },
     "metadata": {
      "needs_background": "light"
     },
     "output_type": "display_data"
    }
   ],
   "source": [
    "#custom_data = custom_data[:,:,0:3]\n",
    "\n",
    "plt.imshow(custom_data)\n",
    "print(custom_data.shape)"
   ]
  },
  {
   "cell_type": "code",
   "execution_count": 7,
   "metadata": {},
   "outputs": [],
   "source": [
    "np.save(\"custom_data\", custom_data)\n"
   ]
  }
 ],
 "metadata": {
  "kernelspec": {
   "display_name": "Python 3",
   "language": "python",
   "name": "python3"
  },
  "language_info": {
   "codemirror_mode": {
    "name": "ipython",
    "version": 3
   },
   "file_extension": ".py",
   "mimetype": "text/x-python",
   "name": "python",
   "nbconvert_exporter": "python",
   "pygments_lexer": "ipython3",
   "version": "3.7.4"
  }
 },
 "nbformat": 4,
 "nbformat_minor": 2
}
