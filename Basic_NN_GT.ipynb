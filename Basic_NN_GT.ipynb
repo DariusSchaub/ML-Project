{
 "cells": [
  {
   "cell_type": "code",
   "execution_count": 1,
   "metadata": {},
   "outputs": [
    {
     "name": "stderr",
     "output_type": "stream",
     "text": [
      "Using TensorFlow backend.\n"
     ]
    }
   ],
   "source": [
    "import tensorflow as tf\n",
    "from keras.models import Model\n",
    "from keras.layers import Dense, Dropout, Activation, Conv2D, Flatten, MaxPooling2D, Input\n",
    "import matplotlib.pyplot as plt\n",
    "from keras.callbacks import TensorBoard\n",
    "import numpy as np\n",
    "import time\n",
    "import keras\n",
    "from keras.models import Sequential"
   ]
  },
  {
   "cell_type": "code",
   "execution_count": 2,
   "metadata": {},
   "outputs": [],
   "source": [
    "X = np.load('features.npy')/255\n",
    "y = np.load('labels.npy')"
   ]
  },
  {
   "cell_type": "code",
   "execution_count": null,
   "metadata": {},
   "outputs": [],
   "source": []
  },
  {
   "cell_type": "code",
   "execution_count": 3,
   "metadata": {},
   "outputs": [],
   "source": [
    "inputs = Input(shape=(32,32,3))\n",
    "\n",
    "x = Flatten(input_shape=(32, 32, 3))(inputs)\n",
    "\n",
    "x = Dense(128, activation='relu')(x)\n",
    "block_1_output = Dropout(0)(x)\n",
    "\n",
    "x = Dense(1024, activation='relu')(block_1_output)\n",
    "block_2_output = Dropout(0.25)(x)\n",
    "\n",
    "#x = Dense(1024, activation='relu')(block_2_output)\n",
    "#block_3_output = Dropout(0.05)(x)\n",
    "\n",
    "#x = Dense(512, activation='relu')(block_3_output)\n",
    "#block_4_output = Dropout(0.05)(x)\n",
    "\n",
    "x = Dense(256, activation='relu')(block_2_output)\n",
    "block_5_output = Dropout(0.05)(x)\n",
    "\n",
    "\n",
    "prediction = Dense(43, activation='softmax')(block_5_output)\n",
    "\n",
    "\n",
    "\n",
    "model_1 = Model(inputs=inputs, outputs=prediction)"
   ]
  },
  {
   "cell_type": "code",
   "execution_count": 4,
   "metadata": {},
   "outputs": [],
   "source": [
    "model_1.compile(loss='categorical_crossentropy', optimizer='adam', metrics=['accuracy'])"
   ]
  },
  {
   "cell_type": "code",
   "execution_count": 5,
   "metadata": {},
   "outputs": [
    {
     "name": "stdout",
     "output_type": "stream",
     "text": [
      "Train on 27446 samples, validate on 11763 samples\n",
      "Epoch 1/10\n",
      "27446/27446 [==============================] - 4s 162us/step - loss: 1.8706 - accuracy: 0.4533 - val_loss: 0.8727 - val_accuracy: 0.7338\n",
      "Epoch 2/10\n",
      "27446/27446 [==============================] - 4s 144us/step - loss: 0.8202 - accuracy: 0.7420 - val_loss: 0.5831 - val_accuracy: 0.8164\n",
      "Epoch 3/10\n",
      "27446/27446 [==============================] - 4s 146us/step - loss: 0.5728 - accuracy: 0.8197 - val_loss: 0.4701 - val_accuracy: 0.8507\n",
      "Epoch 4/10\n",
      "27446/27446 [==============================] - 4s 148us/step - loss: 0.4494 - accuracy: 0.8588 - val_loss: 0.3940 - val_accuracy: 0.8778\n",
      "Epoch 5/10\n",
      "27446/27446 [==============================] - 4s 145us/step - loss: 0.3894 - accuracy: 0.8770 - val_loss: 0.5108 - val_accuracy: 0.8441\n",
      "Epoch 6/10\n",
      "27446/27446 [==============================] - 4s 144us/step - loss: 0.3581 - accuracy: 0.8885 - val_loss: 0.4079 - val_accuracy: 0.8676\n",
      "Epoch 7/10\n",
      "27446/27446 [==============================] - 4s 145us/step - loss: 0.3161 - accuracy: 0.8989 - val_loss: 0.3475 - val_accuracy: 0.8872\n",
      "Epoch 8/10\n",
      "27446/27446 [==============================] - 4s 143us/step - loss: 0.2910 - accuracy: 0.9074 - val_loss: 0.2658 - val_accuracy: 0.9129\n",
      "Epoch 9/10\n",
      "27446/27446 [==============================] - 4s 143us/step - loss: 0.2666 - accuracy: 0.9141 - val_loss: 0.2891 - val_accuracy: 0.9099\n",
      "Epoch 10/10\n",
      "27446/27446 [==============================] - 4s 145us/step - loss: 0.2527 - accuracy: 0.9174 - val_loss: 0.2610 - val_accuracy: 0.9214\n"
     ]
    },
    {
     "data": {
      "text/plain": [
       "<keras.callbacks.callbacks.History at 0x7fddf0d16590>"
      ]
     },
     "execution_count": 5,
     "metadata": {},
     "output_type": "execute_result"
    }
   ],
   "source": [
    "model_1.fit(X, y, batch_size=32, epochs=10, validation_split=0.3)# callbacks=[tensorboard])"
   ]
  }
 ],
 "metadata": {
  "kernelspec": {
   "display_name": "Python 3",
   "language": "python",
   "name": "python3"
  },
  "language_info": {
   "codemirror_mode": {
    "name": "ipython",
    "version": 3
   },
   "file_extension": ".py",
   "mimetype": "text/x-python",
   "name": "python",
   "nbconvert_exporter": "python",
   "pygments_lexer": "ipython3",
   "version": "3.7.4"
  }
 },
 "nbformat": 4,
 "nbformat_minor": 2
}
