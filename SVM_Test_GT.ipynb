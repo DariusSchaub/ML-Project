{
 "cells": [
  {
   "cell_type": "code",
   "execution_count": 3,
   "metadata": {},
   "outputs": [],
   "source": [
    "import cv2\n",
    "from skimage.feature import hog\n",
    "import numpy as np\n",
    "import mahotas\n",
    "from sklearn.svm import LinearSVC, SVC, NuSVC\n",
    "from sklearn.preprocessing import StandardScaler\n",
    "from sklearn.model_selection import train_test_split\n",
    "from skopt import gp_minimize\n",
    "from PIL import Image\n",
    "import matplotlib.pyplot as plt"
   ]
  },
  {
   "cell_type": "code",
   "execution_count": 6,
   "metadata": {},
   "outputs": [],
   "source": [
    "def color_hist(input_image, nbins=32):\n",
    "    ch1 = np.histogram(input_image[:,:,0], bins = nbins, range = (0, 256))[0] # [0] is because we need only the histogram, not bins edges\n",
    "    ch2 = np.histogram(input_image[:,:,1], bins = nbins, range = (0, 256))[0]\n",
    "    ch3 = np.histogram(input_image[:,:,2], bins = nbins, range = (0, 256))[0]\n",
    "    return np.hstack((ch1, ch2, ch3))"
   ]
  },
  {
   "cell_type": "code",
   "execution_count": 5,
   "metadata": {},
   "outputs": [],
   "source": [
    "def extract_features(input_image, nbins, orient, pix_per_cell, cell_per_block):\n",
    "    output = []\n",
    "    for img in input_image:\n",
    "        img_ = np.asarray(Image.fromarray((img*255).astype('uint8')).convert('L'))\n",
    "        features = hog(img_, orientations = orient, pixels_per_cell = (pix_per_cell, pix_per_cell), \n",
    "                       cells_per_block = (cell_per_block, cell_per_block), \n",
    "                       multichannel=False, transform_sqrt = True, visualize = False, feature_vector = True )\n",
    "        output.append(np.hstack((cv2.resize(img*255, dsize=(16,16)).ravel(),color_hist(img*255, nbins),features)))\n",
    "    return np.array(output)\n"
   ]
  },
  {
   "cell_type": "code",
   "execution_count": null,
   "metadata": {},
   "outputs": [],
   "source": [
    "#labels = np.load('labels_SVM.npy')\n",
    "#features = np.load('features.npy')\n",
    "\n",
    "#X_test_ = np.load('test_features.npy')\n",
    "#y_test_ = np.load('test_labels_SVM.npy')"
   ]
  },
  {
   "cell_type": "code",
   "execution_count": 7,
   "metadata": {},
   "outputs": [],
   "source": [
    "X_train = np.load('train_data.npy')\n",
    "y_train = np.load('train_labels.npy')\n",
    "#X_test = np.load(\"test_data.npy\")\n",
    "#y_test = np.load('test_labels.npy')\n",
    "X_val = np.load('val_data.npy')\n",
    "y_val = np.load('val_labels.npy')\n",
    "\n",
    "X_train = np.concatenate((X_train,X_val), axis=0)\n",
    "y_train = np.concatenate((y_train,y_val), axis=0)"
   ]
  },
  {
   "cell_type": "code",
   "execution_count": 8,
   "metadata": {},
   "outputs": [],
   "source": [
    "label_list = []\n",
    "for label in y_train:\n",
    "    label_list.append(np.argmax(label))\n"
   ]
  },
  {
   "cell_type": "code",
   "execution_count": 9,
   "metadata": {},
   "outputs": [],
   "source": [
    "nbins, orient, pix_per_cell, cell_per_block = [64, 8, 4, 1]\n",
    "features = extract_features(X_train, nbins, orient, pix_per_cell, cell_per_block)\n",
    "y_train = np.array(label_list)\n",
    "                  \n",
    "# Fit a per-column scaler\n",
    "X_scaler = StandardScaler().fit(features)\n",
    "# Apply the scaler to X\n",
    "scaled_X = X_scaler.transform(features)\n",
    "X_train, X_val, y_train, y_val = train_test_split(scaled_X, y_train, test_size=0.2, random_state=22)"
   ]
  },
  {
   "cell_type": "code",
   "execution_count": null,
   "metadata": {},
   "outputs": [],
   "source": [
    "print(X_train.shape)"
   ]
  },
  {
   "cell_type": "code",
   "execution_count": null,
   "metadata": {},
   "outputs": [],
   "source": [
    "np.save('SVM_train_data',X_train)\n",
    "np.save('SVM_train_labels', y_train)\n",
    "np.save('SVM_val_data', X_val)\n",
    "np.save('SVM_val_labels', y_val)"
   ]
  },
  {
   "cell_type": "code",
   "execution_count": 2,
   "metadata": {},
   "outputs": [],
   "source": [
    "X_train = np.load('SVM_train_data.npy')\n",
    "y_train = np.load('SVM_train_labels.npy')\n",
    "X_val = np.load('SVM_val_data.npy')\n",
    "y_val = np.load('SVM_val_labels.npy')"
   ]
  },
  {
   "cell_type": "code",
   "execution_count": null,
   "metadata": {},
   "outputs": [],
   "source": [
    "# C = 0.2 optimal (not much difference)\n",
    "reg = np.arange(0.1,2,0.1)\n",
    "test_acc = []\n",
    "for c in reg:\n",
    "    svc = LinearSVC(dual=True, C=c, max_iter=10)\n",
    "    svc.fit(X_train, y_train)\n",
    "    test_acc.append(svc.score(X_val, y_val))\n",
    "    print(test_acc)"
   ]
  },
  {
   "cell_type": "code",
   "execution_count": 10,
   "metadata": {
    "scrolled": true
   },
   "outputs": [
    {
     "name": "stdout",
     "output_type": "stream",
     "text": [
      "0.970691382765531\n"
     ]
    },
    {
     "name": "stderr",
     "output_type": "stream",
     "text": [
      "/home/darius/anaconda3/lib/python3.7/site-packages/sklearn/svm/base.py:929: ConvergenceWarning: Liblinear failed to converge, increase the number of iterations.\n",
      "  \"the number of iterations.\", ConvergenceWarning)\n"
     ]
    }
   ],
   "source": [
    "svc = LinearSVC(dual=True, C=0.2, max_iter=20)\n",
    "svc.fit(X_train, y_train)\n",
    "print(svc.score(X_val, y_val))\n"
   ]
  },
  {
   "cell_type": "code",
   "execution_count": 11,
   "metadata": {},
   "outputs": [],
   "source": [
    "X_test = np.load(\"test_data.npy\")\n",
    "y_test = np.load('test_labels.npy')"
   ]
  },
  {
   "cell_type": "code",
   "execution_count": 12,
   "metadata": {},
   "outputs": [],
   "source": [
    "\n",
    "label_list = []\n",
    "for label in y_test:\n",
    "    label_list.append(np.argmax(label))\n",
    "y_test = np.array(label_list)\n",
    "\n",
    "nbins, orient, pix_per_cell, cell_per_block = [64, 8, 4, 1]\n",
    "features = extract_features(X_test, nbins, orient, pix_per_cell, cell_per_block)\n",
    "                   \n",
    "# Fit a per-column scaler\n",
    "X_scaler = StandardScaler().fit(features)\n",
    "# Apply the scaler to X\n",
    "scaled_X_test = X_scaler.transform(features)\n",
    "#X_train, X_test, y_train, y_test = train_test_split(scaled_X, y, test_size=0.2, random_state=22)"
   ]
  },
  {
   "cell_type": "code",
   "execution_count": 13,
   "metadata": {},
   "outputs": [],
   "source": [
    "class_features = []\n",
    "class_labels = []\n",
    "for i in range(0,43):\n",
    "    class_features.append([])\n",
    "    class_labels.append([])\n",
    "\n",
    "for i, label in enumerate(y_test):\n",
    "    class_labels[int(label)].append(label)\n",
    "    class_features[int(label)].append(scaled_X_test[i])\n",
    "    "
   ]
  },
  {
   "cell_type": "code",
   "execution_count": 14,
   "metadata": {},
   "outputs": [],
   "source": [
    "results = []\n",
    "for i, c in enumerate(class_features):\n",
    "    score = svc.score(np.array(c), class_labels[i])\n",
    "    #print('Class: ', i)\n",
    "    #print('Test loss:', score[0]) \n",
    "    #print('Test accuracy:', score[1])\n",
    "    results.append(score)"
   ]
  },
  {
   "cell_type": "code",
   "execution_count": 15,
   "metadata": {},
   "outputs": [
    {
     "data": {
      "image/png": "[encoded data removed]",
      "text/plain": [
       "<Figure size 720x288 with 1 Axes>"
      ]
     },
     "metadata": {
      "needs_background": "light"
     },
     "output_type": "display_data"
    }
   ],
   "source": [
    "import matplotlib.pyplot as plt\n",
    "\n",
    "fig, axs = plt.subplots(nrows=1, ncols=1, figsize=(10, 4), constrained_layout=True)\n",
    "\n",
    "width = 0.8  # the width of the bars\n",
    "axs.grid(True)\n",
    "barlist = axs.bar(np.arange(0,43),results, width)\n",
    "#for i, bar in enumerate(barlist):\n",
    "    #if results[i] < 0.98:\n",
    "        #bar.set_color('tab:red')\n",
    "\n",
    "axs.set_xticks(np.arange(0,43))#, rotation='vertical')\n",
    "axs.set_xlim(xmax=43,xmin=-1)\n",
    "axs.set_ylim(ymax=1.005,ymin=0.8)\n",
    "#axs.set_yticks(np.arange(0,750,75))\n",
    "\n",
    "axs.set_xlabel('Class')\n",
    "axs.set_ylabel('Accuracy')\n",
    "axs.set_title('Test accuracy per class')\n",
    "#plt.savefig('Class_accuracy_(freshtrained_model_trained_on_500_aug_images_per_class+orig_train).png', dpi=500)\n",
    "plt.savefig('Class_accuracy_SVM.png', dpi=500)"
   ]
  },
  {
   "cell_type": "code",
   "execution_count": 16,
   "metadata": {
    "scrolled": true
   },
   "outputs": [
    {
     "data": {
      "text/plain": [
       "0.9688836702172272"
      ]
     },
     "execution_count": 16,
     "metadata": {},
     "output_type": "execute_result"
    }
   ],
   "source": [
    "svc.score(scaled_X_test, y_test)"
   ]
  },
  {
   "cell_type": "code",
   "execution_count": 46,
   "metadata": {},
   "outputs": [
    {
     "data": {
      "image/png": "[encoded data removed]",
      "text/plain": [
       "<Figure size 432x288 with 1 Axes>"
      ]
     },
     "metadata": {
      "needs_background": "light"
     },
     "output_type": "display_data"
    }
   ],
   "source": [
    "from skimage.feature import hog\n",
    "nbins, orient, pix_per_cell, cell_per_block = [64, 8, 4, 1]\n",
    "plt.imshow(X_test[32])\n",
    "\n",
    "features, image = hog(X_test[32], orientations = orient, pixels_per_cell = (pix_per_cell, pix_per_cell), \n",
    "                       cells_per_block = (cell_per_block, cell_per_block), \n",
    "                       multichannel=True, transform_sqrt = True, visualize = True, feature_vector = True )\n",
    "#plt.imshow(image, cmap='gray')"
   ]
  },
  {
   "cell_type": "code",
   "execution_count": 51,
   "metadata": {},
   "outputs": [
    {
     "data": {
      "image/png": "[encoded data removed]",
      "text/plain": [
       "<Figure size 144x288 with 2 Axes>"
      ]
     },
     "metadata": {},
     "output_type": "display_data"
    }
   ],
   "source": [
    "import matplotlib.pyplot as plt\n",
    "\n",
    "fig, axs = plt.subplots(nrows=2, ncols=1, figsize=(2, 4), constrained_layout=True)\n",
    "\n",
    "axs = axs.ravel()\n",
    "\n",
    "#plt.subplots_adjust(left=0, bottom=0, right=1, top=1, wspace=0, hspace=0)\n",
    "\n",
    "axs[0].imshow(X_test[32])\n",
    "axs[0].set_xticks([])\n",
    "axs[0].set_yticks([])\n",
    "axs[1].imshow(image, cmap='gray')\n",
    "axs[1].set_xticks([])\n",
    "axs[1].set_yticks([])\n",
    "\n",
    "\n",
    "\n",
    "plt.savefig('hog_feature.png', dpi=500)\n",
    "plt.show()"
   ]
  },
  {
   "cell_type": "code",
   "execution_count": 18,
   "metadata": {},
   "outputs": [
    {
     "name": "stdout",
     "output_type": "stream",
     "text": [
      "0\n"
     ]
    }
   ],
   "source": [
    "ch1 = np.histogram(X_test[32][:,:,0]*255, bins = nbins, range = (0, 255))[0]\n",
    "print(ch1[0])\n"
   ]
  },
  {
   "cell_type": "code",
   "execution_count": 27,
   "metadata": {},
   "outputs": [
    {
     "data": {
      "image/png": "[encoded data removed]",
      "text/plain": [
       "<Figure size 720x144 with 1 Axes>"
      ]
     },
     "metadata": {
      "needs_background": "light"
     },
     "output_type": "display_data"
    }
   ],
   "source": [
    "import matplotlib.pyplot as plt\n",
    "\n",
    "fig, axs = plt.subplots(nrows=1, ncols=1, figsize=(10, 2), constrained_layout=True)\n",
    "\n",
    "width = 0.8  # the width of the bars\n",
    "axs.grid(True)\n",
    "barlist = axs.bar(np.arange(0,64)+1,ch1, width)\n",
    "#for i, bar in enumerate(barlist):\n",
    "    #if results[i] < 0.98:\n",
    "        #bar.set_color('tab:red')\n",
    "\n",
    "axs.set_xticks(np.arange(0,64)+1)#, rotation='vertical')\n",
    "axs.set_xlim(xmax=53,xmin=10)\n",
    "#axs.set_ylim(ymax=1.005,ymin=0.8)\n",
    "#axs.set_yticks(np.arange(0,750,75))\n",
    "\n",
    "axs.set_xlabel('Bin')\n",
    "axs.set_ylabel('Pixels')\n",
    "\n",
    "axs.set_title('Color histrogram (Red channel)')\n",
    "#plt.savefig('Class_accuracy_(freshtrained_model_trained_on_500_aug_images_per_class+orig_train).png', dpi=500)\n",
    "plt.savefig('color_hist_ch1.png', dpi=500)"
   ]
  },
  {
   "cell_type": "code",
   "execution_count": null,
   "metadata": {},
   "outputs": [],
   "source": []
  },
  {
   "cell_type": "code",
   "execution_count": null,
   "metadata": {},
   "outputs": [],
   "source": []
  },
  {
   "cell_type": "code",
   "execution_count": null,
   "metadata": {},
   "outputs": [],
   "source": []
  },
  {
   "cell_type": "code",
   "execution_count": null,
   "metadata": {},
   "outputs": [],
   "source": []
  },
  {
   "cell_type": "code",
   "execution_count": null,
   "metadata": {},
   "outputs": [],
   "source": []
  },
  {
   "cell_type": "code",
   "execution_count": null,
   "metadata": {},
   "outputs": [],
   "source": []
  },
  {
   "cell_type": "code",
   "execution_count": null,
   "metadata": {},
   "outputs": [],
   "source": []
  },
  {
   "cell_type": "code",
   "execution_count": null,
   "metadata": {},
   "outputs": [],
   "source": [
    "img_ = np.asarray(Image.fromarray(features[2]).convert('L'))\n",
    "features_ = hog(img_, orientations = orient, pixels_per_cell = (pix_per_cell, pix_per_cell), \n",
    "               cells_per_block = (cell_per_block, cell_per_block), \n",
    "               multichannel=False, transform_sqrt = True, visualize = False, feature_vector = True )\n",
    "print(features_.shape)"
   ]
  },
  {
   "cell_type": "code",
   "execution_count": null,
   "metadata": {},
   "outputs": [],
   "source": [
    "svc = SVC(gamma = 'auto', cache_size = 2048)\n",
    "svc.fit(X_train, y_train)\n",
    "test_acc = svc.score(X_test, y_test)"
   ]
  },
  {
   "cell_type": "code",
   "execution_count": null,
   "metadata": {
    "scrolled": false
   },
   "outputs": [],
   "source": [
    "space  = [(8, 32),                  # Number of bins for color histogram\n",
    "          (4, 8),                  # HOG number of orientations\n",
    "          (4, 8),                  # HOG pixels per cell\n",
    "          (1, 2)]                   # HOG cells per block\n",
    "i = 0\n",
    "\n",
    "def obj(params):\n",
    "    global i\n",
    "    nbins, orient, pix_per_cell, cell_per_block = params\n",
    "    # Use only every 10th images to speed things up.\n",
    "    features_ = extract_features(features[::20,:,:,:], nbins, orient, pix_per_cell, cell_per_block)\n",
    "    y = labels[::20]\n",
    "    X = features_                    \n",
    "    # Fit a per-column scaler\n",
    "    X_scaler = StandardScaler().fit(X)\n",
    "    # Apply the scaler to X\n",
    "    scaled_X = X_scaler.transform(X)\n",
    "    X_train, X_test, y_train, y_test = train_test_split(scaled_X, y, test_size=0.2, random_state=22)\n",
    "    svc = LinearSVC()\n",
    "    svc.fit(X_train, y_train)\n",
    "    test_acc = svc.score(X_test, y_test)\n",
    "    print (i, params, test_acc)\n",
    "    i += 1\n",
    "    return 1.0 - test_acc\n",
    "    \n",
    "res = gp_minimize(obj, space, n_calls = 20, random_state = 22)\n",
    "print(\"Best score=%.4f\" % res.fun)"
   ]
  }
 ],
 "metadata": {
  "kernelspec": {
   "display_name": "Python 3",
   "language": "python",
   "name": "python3"
  },
  "language_info": {
   "codemirror_mode": {
    "name": "ipython",
    "version": 3
   },
   "file_extension": ".py",
   "mimetype": "text/x-python",
   "name": "python",
   "nbconvert_exporter": "python",
   "pygments_lexer": "ipython3",
   "version": "3.7.4"
  }
 },
 "nbformat": 4,
 "nbformat_minor": 2
}
