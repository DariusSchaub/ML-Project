{
 "cells": [
  {
   "cell_type": "code",
   "execution_count": 16,
   "metadata": {},
   "outputs": [
    {
     "name": "stdout",
     "output_type": "stream",
     "text": [
      "(3194, 43)\n"
     ]
    }
   ],
   "source": [
    "import numpy as np\n",
    "\n",
    "X_train = np.load('train_data.npy')\n",
    "y_train = np.load('train_labels.npy')\n",
    "#X_test = np.load(\"test_data.npy\")\n",
    "y_test = np.load('test_labels.npy')\n",
    "#X_val = np.load('val_data.npy')\n",
    "y_val = np.load('val_labels.npy')\n",
    "print(y_val.shape)"
   ]
  },
  {
   "cell_type": "code",
   "execution_count": null,
   "metadata": {},
   "outputs": [],
   "source": [
    "import numpy as np\n",
    "\n",
    "X_train = np.load('train_data_augmented_500_per_class+train_data.npy')\n",
    "y_train = np.load('train_labels_augmented_500_per_class+train_labels.npy')\n",
    "X_val = np.load('val_data_augmented_500_per_class+train_data.npy')\n",
    "y_val = np.load('val_labels_augmented_500_per_class+train_labels.npy')"
   ]
  },
  {
   "cell_type": "code",
   "execution_count": null,
   "metadata": {},
   "outputs": [],
   "source": [
    "samples = []\n",
    "for k in range(0,43):\n",
    "    for i, img in enumerate(X_train):\n",
    "        if int(np.argmax(y_train[i])) == k:\n",
    "            samples.append(img)\n",
    "            break"
   ]
  },
  {
   "cell_type": "code",
   "execution_count": null,
   "metadata": {},
   "outputs": [],
   "source": [
    "import matplotlib.pyplot as plt\n",
    "\n",
    "\n",
    "\n",
    "fig, axs = plt.subplots(nrows=4, ncols=11, figsize=(11, 4), constrained_layout=True)\n",
    "\n",
    "axs = axs.ravel()\n",
    "\n",
    "for i in range(0,43):\n",
    "    axs[i].imshow(samples[i])\n",
    "    axs[i].set_xticks([])\n",
    "    axs[i].set_yticks([])\n",
    "\n",
    "axs[43].remove()\n",
    "#fig.tight_layout()\n",
    "plt.savefig('Samples.png')\n",
    "plt.show()"
   ]
  },
  {
   "cell_type": "code",
   "execution_count": 1,
   "metadata": {},
   "outputs": [],
   "source": [
    "import numpy as np\n",
    "y_aug_train = np.concatenate((np.load('train_labels_augmented_500_per_class.npy'), np.load('train_labels.npy')), axis=0)\n",
    "\n",
    "\n",
    "# train + val distribution (augmented)\n",
    "train_distribution = np.zeros((43,))\n",
    "\n",
    "for label in (y_aug_train):\n",
    "    train_distribution[int(np.argmax(label))] += 1\n"
   ]
  },
  {
   "cell_type": "code",
   "execution_count": 2,
   "metadata": {},
   "outputs": [],
   "source": [
    "#original distribution\n",
    "train_distribution_ = np.zeros((43,))\n",
    "y_train_ = np.load('train_labels.npy')\n",
    "#y_val_ = np.load('val_labels.npy')\n",
    "for label in (y_train_):\n",
    "    train_distribution_[int(np.argmax(label))] += 1"
   ]
  },
  {
   "cell_type": "code",
   "execution_count": 4,
   "metadata": {
    "scrolled": true
   },
   "outputs": [
    {
     "data": {
      "image/png": "[encoded data removed]",
      "text/plain": [
       "<Figure size 720x288 with 1 Axes>"
      ]
     },
     "metadata": {
      "needs_background": "light"
     },
     "output_type": "display_data"
    }
   ],
   "source": [
    "import matplotlib.pyplot as plt\n",
    "\n",
    "fig, axs = plt.subplots(nrows=1, ncols=1, figsize=(10, 4), constrained_layout=True)\n",
    "\n",
    "width = 0.4  # the width of the bars\n",
    "axs.grid(True)\n",
    "axs.bar(np.arange(0,43)-0.2,np.round(np.array(train_distribution),4), width, label='Augmented training set ('+str(int(y_aug_train.shape[0]))+' images)', color='tab:orange')\n",
    "axs.bar(np.arange(0,43)+0.2,np.round(train_distribution_,4), width, label='Original training set ('+str(y_train_.shape[0])+' images)', color='tab:blue', alpha = 1)\n",
    "\n",
    "\n",
    "\n",
    "#axs.bar(np.arange(0,43),np.round(train_distribution_), width, alpha=0.8, label='Original training data')\n",
    "\n",
    "axs.set_xticks(np.arange(0,43))#, rotation='vertical')\n",
    "axs.set_xlim(xmax=43,xmin=-1)\n",
    "axs.set_xlim(xmax=43,xmin=-1)\n",
    "axs.set_yticks(np.arange(0,2750,250))\n",
    "axs.set_title('Distribution augmented training set (500 additional images per class)')\n",
    "axs.set_xlabel('Class')\n",
    "axs.set_ylabel('Size')\n",
    "\n",
    "\n",
    "\n",
    "plt.legend()\n",
    "plt.savefig('Train_distribution_augmented.png', dpi=500)\n",
    "plt.show()"
   ]
  },
  {
   "cell_type": "code",
   "execution_count": null,
   "metadata": {},
   "outputs": [],
   "source": []
  },
  {
   "cell_type": "code",
   "execution_count": null,
   "metadata": {},
   "outputs": [],
   "source": [
    "# test distribution\n",
    "test_distribution = np.zeros((43,))\n",
    "\n",
    "for label in y_test:\n",
    "    test_distribution[int(np.argmax(label))] += 1\n"
   ]
  },
  {
   "cell_type": "code",
   "execution_count": null,
   "metadata": {},
   "outputs": [],
   "source": [
    "import matplotlib.pyplot as plt\n",
    "\n",
    "fig, axs = plt.subplots(nrows=1, ncols=1, figsize=(10, 4), constrained_layout=True)\n",
    "\n",
    "width = 0.8  # the width of the bars\n",
    "axs.grid(True)\n",
    "axs.bar(np.arange(0,43),np.round(test_distribution), width)\n",
    "\n",
    "axs.set_xticks(np.arange(0,43))#, rotation='vertical')\n",
    "axs.set_xlim(xmax=43,xmin=-1)\n",
    "axs.set_yticks(np.arange(0,750,75))\n",
    "axs.set_title('Distribution test set ('+str(y_test.shape[0])+' images)')\n",
    "axs.set_xlabel('Class')\n",
    "axs.set_ylabel('Size')\n",
    "\n",
    "plt.savefig('Test_distribution.png')"
   ]
  },
  {
   "cell_type": "code",
   "execution_count": null,
   "metadata": {},
   "outputs": [],
   "source": [
    "import matplotlib.pyplot as plt\n",
    "\n",
    "\n",
    "\n",
    "fig, axs = plt.subplots(nrows=1, ncols=1, figsize=(10, 4), constrained_layout=True)\n",
    "\n",
    "width = 0.4  # the width of the bars\n",
    "axs.grid(True)\n",
    "\n",
    "axs.bar(np.arange(0,43)-0.2,np.round(test_distribution,4), width, label='Test set ('+str(y_test.shape[0])+' images)', color='tab:orange')\n",
    "axs.bar(np.arange(0,43)+0.2,np.round(train_distribution,4), width, label='Training set ('+str(y_train.shape[0])+' images)', color='tab:blue')\n",
    "\n",
    "axs.set_xticks(np.arange(0,43))#, rotation='vertical')\n",
    "axs.set_xlim(xmax=43,xmin=-1)\n",
    "axs.set_yticks(np.arange(0,2500,250))\n",
    "axs.set_title('Distribution test and training set')\n",
    "axs.set_xlabel('Class')\n",
    "axs.set_ylabel('Size')\n",
    "axs.legend()\n",
    "plt.savefig('test_vs_training_set.png', dpi=500)\n",
    "plt.show()"
   ]
  },
  {
   "cell_type": "code",
   "execution_count": null,
   "metadata": {},
   "outputs": [],
   "source": []
  }
 ],
 "metadata": {
  "kernelspec": {
   "display_name": "Python 3",
   "language": "python",
   "name": "python3"
  },
  "language_info": {
   "codemirror_mode": {
    "name": "ipython",
    "version": 3
   },
   "file_extension": ".py",
   "mimetype": "text/x-python",
   "name": "python",
   "nbconvert_exporter": "python",
   "pygments_lexer": "ipython3",
   "version": "3.7.4"
  }
 },
 "nbformat": 4,
 "nbformat_minor": 2
}
